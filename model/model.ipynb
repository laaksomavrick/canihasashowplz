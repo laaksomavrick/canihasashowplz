{
 "cells": [
  {
   "cell_type": "code",
   "execution_count": null,
   "outputs": [],
   "source": [
    "from model.functions import get_stratified_data\n",
    "\n",
    "train_set, test_set = get_stratified_data()\n",
    "\n",
    "train_set.head()"
   ],
   "metadata": {
    "collapsed": false,
    "pycharm": {
     "is_executing": true
    }
   }
  },
  {
   "cell_type": "code",
   "execution_count": null,
   "outputs": [],
   "source": [
    "from model.pipelines import get_basic_nn_pipeline\n",
    "\n",
    "pipeline = get_basic_nn_pipeline()\n",
    "df = pipeline.fit_transform(train_set)\n",
    "\n",
    "df.head()"
   ],
   "metadata": {
    "collapsed": false,
    "pycharm": {
     "is_executing": true
    }
   }
  },
  {
   "cell_type": "code",
   "execution_count": null,
   "outputs": [
    {
     "name": "stderr",
     "output_type": "stream",
     "text": [
      "/Users/mav/code/personal/canihaveatvshowplz/.venv/lib/python3.11/site-packages/sklearn/metrics/pairwise.py:2182: DataConversionWarning: Data was converted to boolean for metric jaccard\n",
      "  warnings.warn(msg, DataConversionWarning)\n"
     ]
    }
   ],
   "source": [
    "from sklearn.neighbors import NearestNeighbors\n",
    "\n",
    "\n",
    "k_value = 3\n",
    "nn_graph = NearestNeighbors(n_neighbors=k_value, algorithm='brute', metric='jaccard')\n",
    "nn_graph.fit(df)\n",
    "\n",
    "distances, indices = nn_graph.kneighbors(df)"
   ],
   "metadata": {
    "collapsed": false,
    "pycharm": {
     "is_executing": true
    }
   }
  },
  {
   "cell_type": "code",
   "execution_count": null,
   "outputs": [],
   "source": [
    "import networkx as nx\n",
    "\n",
    "graph = nx.Graph()\n",
    "\n",
    "for _, row in df.iterrows():\n",
    "    if row['is_liked'] == 1:\n",
    "        graph.add_edge(row['user_id'], row['show_id'])"
   ],
   "metadata": {
    "collapsed": false,
    "pycharm": {
     "is_executing": true
    }
   }
  },
  {
   "cell_type": "code",
   "execution_count": null,
   "outputs": [],
   "source": [
    "def generate_recommendations_from_graph(graph, given_show_ids):\n",
    "    users_liking_given_shows = set()\n",
    "\n",
    "    # Find users who liked the given shows\n",
    "    for show_id in given_show_ids:\n",
    "        if show_id in graph:\n",
    "            users_liking_given_shows.update(list(graph.neighbors(show_id)))\n",
    "\n",
    "    recommended_shows = set()\n",
    "\n",
    "    # Traverse the graph to find other shows liked by these users\n",
    "    for user in users_liking_given_shows:\n",
    "        # Assume the graph has connections between users and their liked shows\n",
    "        user_liked_shows = set(graph.neighbors(user))\n",
    "        recommended_shows.update(user_liked_shows)\n",
    "\n",
    "    # Remove the originally provided show_ids from recommendations\n",
    "    recommended_shows -= set(given_show_ids)\n",
    "\n",
    "    return list(recommended_shows)"
   ],
   "metadata": {
    "collapsed": false,
    "pycharm": {
     "is_executing": true
    }
   }
  },
  {
   "cell_type": "code",
   "execution_count": null,
   "outputs": [],
   "source": [
    "show_ids = [\n",
    "    \"9c7a19bc-6f54-4d21-b6b6-0606e29fbba3\",\n",
    "    \"8c0ebcc3-fbf7-4a67-8c3e-85f13de11f8e\",\n",
    "]\n",
    "\n",
    "recommended_shows = generate_recommendations_from_graph(graph, show_ids)\n",
    "\n",
    "print(recommended_shows)"
   ],
   "metadata": {
    "collapsed": false,
    "pycharm": {
     "is_executing": true
    }
   }
  },
  {
   "cell_type": "markdown",
   "source": [
    "TODO: only output the graph in our model, no longer need ratings.csv...?\n",
    "```\n",
    "import pickle\n",
    "\n",
    "# Assuming 'graph' is your NetworkX graph\n",
    "with open('your_graph.pkl', 'wb') as f:\n",
    "    pickle.dump(graph, f)\n",
    "```"
   ],
   "metadata": {
    "collapsed": false
   }
  }
 ],
 "metadata": {
  "kernelspec": {
   "display_name": "Python 3",
   "language": "python",
   "name": "python3"
  },
  "language_info": {
   "codemirror_mode": {
    "name": "ipython",
    "version": 2
   },
   "file_extension": ".py",
   "mimetype": "text/x-python",
   "name": "python",
   "nbconvert_exporter": "python",
   "pygments_lexer": "ipython2",
   "version": "2.7.6"
  }
 },
 "nbformat": 4,
 "nbformat_minor": 0
}
